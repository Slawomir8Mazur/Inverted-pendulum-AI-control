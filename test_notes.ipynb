{
 "cells": [
  {
   "cell_type": "code",
   "execution_count": 1,
   "metadata": {
    "collapsed": true
   },
   "outputs": [
    {
     "name": "stdout",
     "output_type": "stream",
     "text": [
      "2019-02-28 22:16:38,837 INFO sqlalchemy.engine.base.Engine SELECT CAST('test plain returns' AS VARCHAR(60)) AS anon_1\n"
     ]
    },
    {
     "name": "stdout",
     "output_type": "stream",
     "text": [
      "2019-02-28 22:16:38,847 INFO sqlalchemy.engine.base.Engine ()\n"
     ]
    },
    {
     "name": "stdout",
     "output_type": "stream",
     "text": [
      "2019-02-28 22:16:38,850 INFO sqlalchemy.engine.base.Engine SELECT CAST('test unicode returns' AS VARCHAR(60)) AS anon_1\n"
     ]
    },
    {
     "name": "stdout",
     "output_type": "stream",
     "text": [
      "2019-02-28 22:16:38,852 INFO sqlalchemy.engine.base.Engine ()\n"
     ]
    },
    {
     "name": "stdout",
     "output_type": "stream",
     "text": [
      "2019-02-28 22:16:38,855 INFO sqlalchemy.engine.base.Engine PRAGMA table_info(\"record\")\n"
     ]
    },
    {
     "name": "stdout",
     "output_type": "stream",
     "text": [
      "2019-02-28 22:16:38,857 INFO sqlalchemy.engine.base.Engine ()\n"
     ]
    }
   ],
   "source": [
    "from sqlalchemy import create_engine\n",
    "from sqlalchemy.orm import sessionmaker\n",
    "from database_def import RecordBase, Record"
   ]
  },
  {
   "cell_type": "code",
   "execution_count": 3,
   "metadata": {},
   "outputs": [],
   "source": [
    "#creating session\n",
    "engine = create_engine('sqlite:///parameters.db', echo=True)\n",
    "Session = sessionmaker(bind=engine)\n",
    "session = Session()"
   ]
  },
  {
   "cell_type": "code",
   "execution_count": 2,
   "metadata": {},
   "outputs": [
    {
     "name": "stdout",
     "output_type": "stream",
     "text": [
      "   M_1  I_2   L  A_1  V_1  U_1  E_2  W_2  Fi_2   K   B\n1   12   23 NaN  NaN  NaN  NaN  NaN  NaN   NaN NaN NaN\n   M_1  I_2   L  A_1  V_1  U_1  E_2  W_2  Fi_2   K   B\n1   12   23 NaN  NaN  NaN  NaN  NaN  NaN   NaN NaN NaN\n<database_def.Record object at 0x0000022163B42EB8>\n"
     ]
    }
   ],
   "source": [
    "r1= Record(M_1=12, I_2=23)\n",
    "r = Record(r1)\n",
    "#print(isinstance(r1, Record))\n",
    "print(r1.record)\n",
    "print(r.record)"
   ]
  },
  {
   "cell_type": "code",
   "execution_count": 6,
   "metadata": {},
   "outputs": [
    {
     "data": {
      "text/plain": [
       "<database_def.Record at 0x1e26d0afeb8>"
      ]
     },
     "execution_count": 6,
     "metadata": {},
     "output_type": "execute_result"
    }
   ],
   "source": [
    "r1"
   ]
  },
  {
   "cell_type": "code",
   "execution_count": 9,
   "metadata": {},
   "outputs": [
    {
     "ename": "NameError",
     "evalue": "name 'Record_base' is not defined",
     "traceback": [
      "\u001b[1;31m---------------------------------------------------------------------------\u001b[0m",
      "\u001b[1;31mNameError\u001b[0m                                 Traceback (most recent call last)",
      "\u001b[1;32m<ipython-input-9-e29187d65933>\u001b[0m in \u001b[0;36m<module>\u001b[1;34m\u001b[0m\n\u001b[1;32m----> 1\u001b[1;33m new_record = Record_base(M_1=11, I_2=12, L=1, \n\u001b[0m\u001b[0;32m      2\u001b[0m                          \u001b[0mA_1\u001b[0m\u001b[1;33m=\u001b[0m\u001b[1;36m1.1\u001b[0m\u001b[1;33m,\u001b[0m \u001b[0mV_1\u001b[0m\u001b[1;33m=\u001b[0m\u001b[1;36m1\u001b[0m\u001b[1;33m,\u001b[0m \u001b[0mU_1\u001b[0m\u001b[1;33m=\u001b[0m\u001b[1;36m1\u001b[0m\u001b[1;33m,\u001b[0m\u001b[1;33m\u001b[0m\u001b[0m\n\u001b[0;32m      3\u001b[0m                          E_2=2, W_2=2, Fi_2=2)#,\n\u001b[0;32m      4\u001b[0m                          \u001b[1;31m#K=4, B=4)\u001b[0m\u001b[1;33m\u001b[0m\u001b[1;33m\u001b[0m\u001b[0m\n",
      "\u001b[1;31mNameError\u001b[0m: name 'Record_base' is not defined"
     ],
     "output_type": "error"
    }
   ],
   "source": [
    "new_record = Record_base(M_1=11, I_2=12, L=1, \n",
    "                         A_1=1.1, V_1=1, U_1=1,\n",
    "                         E_2=2, W_2=2, Fi_2=2)#,\n",
    "                         #K=4, B=4)"
   ]
  },
  {
   "cell_type": "code",
   "execution_count": 17,
   "metadata": {},
   "outputs": [
    {
     "data": {
      "text/plain": [
       "{'_sa_instance_state': <sqlalchemy.orm.state.InstanceState at 0x1e125404470>,\n 'M_1': 11,\n 'I_2': 12,\n 'L': 1,\n 'A_1': 1.1,\n 'V_1': 1,\n 'U_1': 1,\n 'E_2': 2,\n 'W_2': 2,\n 'Fi_2': 2}"
      ]
     },
     "execution_count": 17,
     "metadata": {},
     "output_type": "execute_result"
    }
   ],
   "source": [
    "new_record.__dict__"
   ]
  },
  {
   "cell_type": "code",
   "execution_count": 18,
   "metadata": {},
   "outputs": [
    {
     "name": "stdout",
     "output_type": "stream",
     "text": [
      "2019-02-28 20:33:35,526 INFO sqlalchemy.engine.base.Engine INSERT INTO record (\"M_1\", \"I_2\", \"L\", \"A_1\", \"V_1\", \"U_1\", \"E_2\", \"W_2\", \"Fi_2\", \"K\", \"B\") VALUES (?, ?, ?, ?, ?, ?, ?, ?, ?, ?, ?)\n"
     ]
    },
    {
     "name": "stdout",
     "output_type": "stream",
     "text": [
      "2019-02-28 20:33:35,542 INFO sqlalchemy.engine.base.Engine (11.0, 12.0, 1.0, 1.1, 1.0, 1.0, 2.0, 2.0, 2.0, None, None)\n"
     ]
    },
    {
     "name": "stdout",
     "output_type": "stream",
     "text": [
      "2019-02-28 20:33:35,542 INFO sqlalchemy.engine.base.Engine COMMIT\n"
     ]
    }
   ],
   "source": [
    "session.add(new_record)\n",
    "session.commit()"
   ]
  },
  {
   "cell_type": "code",
   "execution_count": 15,
   "metadata": {},
   "outputs": [
    {
     "name": "stdout",
     "output_type": "stream",
     "text": [
      "2019-02-28 20:31:20,425 INFO sqlalchemy.engine.base.Engine SELECT record.id AS record_id, record.\"M_1\" AS \"record_M_1\", record.\"I_2\" AS \"record_I_2\", record.\"L\" AS \"record_L\", record.\"A_1\" AS \"record_A_1\", record.\"V_1\" AS \"record_V_1\", record.\"U_1\" AS \"record_U_1\", record.\"E_2\" AS \"record_E_2\", record.\"W_2\" AS \"record_W_2\", record.\"Fi_2\" AS \"record_Fi_2\", record.\"K\" AS \"record_K\", record.\"B\" AS \"record_B\" \nFROM record\n LIMIT ? OFFSET ?\n"
     ]
    },
    {
     "name": "stdout",
     "output_type": "stream",
     "text": [
      "2019-02-28 20:31:20,425 INFO sqlalchemy.engine.base.Engine (1, 0)\n"
     ]
    },
    {
     "name": "stdout",
     "output_type": "stream",
     "text": [
      "11.0\n"
     ]
    }
   ],
   "source": [
    "res = session.query(Record_base).first()\n",
    "print(res.M_1)"
   ]
  },
  {
   "cell_type": "code",
   "execution_count": 20,
   "metadata": {},
   "outputs": [
    {
     "ename": "ImportError",
     "evalue": "cannot import name 'Record'",
     "traceback": [
      "\u001b[1;31m---------------------------------------------------------------------------\u001b[0m",
      "\u001b[1;31mImportError\u001b[0m                               Traceback (most recent call last)",
      "\u001b[1;32m<ipython-input-20-1c6c1da96a65>\u001b[0m in \u001b[0;36m<module>\u001b[1;34m\u001b[0m\n\u001b[1;32m----> 1\u001b[1;33m \u001b[1;32mfrom\u001b[0m \u001b[0mdatabase_def\u001b[0m \u001b[1;32mimport\u001b[0m \u001b[0mRecord\u001b[0m\u001b[1;33m\u001b[0m\u001b[0m\n\u001b[0m",
      "\u001b[1;31mImportError\u001b[0m: cannot import name 'Record'"
     ],
     "output_type": "error"
    }
   ],
   "source": [
    "from database_def import Record\n"
   ]
  },
  {
   "cell_type": "code",
   "execution_count": 20,
   "metadata": {},
   "outputs": [],
   "source": []
  },
  {
   "cell_type": "code",
   "execution_count": null,
   "metadata": {},
   "outputs": [],
   "source": []
  }
 ],
 "metadata": {
  "kernelspec": {
   "display_name": "Python 2",
   "language": "python",
   "name": "python2"
  },
  "language_info": {
   "codemirror_mode": {
    "name": "ipython",
    "version": 2
   },
   "file_extension": ".py",
   "mimetype": "text/x-python",
   "name": "python",
   "nbconvert_exporter": "python",
   "pygments_lexer": "ipython2",
   "version": "2.7.6"
  }
 },
 "nbformat": 4,
 "nbformat_minor": 0
}
