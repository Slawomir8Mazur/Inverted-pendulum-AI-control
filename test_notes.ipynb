{
 "cells": [
  {
   "cell_type": "code",
   "execution_count": 1,
   "metadata": {
    "collapsed": true
   },
   "outputs": [],
   "source": [
    "import numpy as np\n",
    "import pandas as pd\n",
    "import matplotlib.pyplot as plt\n",
    "from database_def import Record"
   ]
  },
  {
   "cell_type": "code",
   "execution_count": 2,
   "metadata": {},
   "outputs": [],
   "source": [
    "#creating an inverted pendulum object\n",
    "pendulum = Record()"
   ]
  },
  {
   "cell_type": "heading",
   "metadata": {},
   "level": 3,
   "source": [
    "Pendulum has 3 atributes (currently all of them empty):"
   ]
  },
  {
   "cell_type": "heading",
   "metadata": {},
   "level": 1,
   "source": [
    "record - containing current state"
   ]
  },
  {
   "cell_type": "heading",
   "metadata": {},
   "level": 1,
   "source": [
    "last_movement - containing movement parameters from last move"
   ]
  },
  {
   "cell_type": "heading",
   "metadata": {},
   "level": 1,
   "source": [
    "stack_of_movement - containing all the movement parameters from before last movement"
   ]
  },
  {
   "cell_type": "code",
   "execution_count": 4,
   "metadata": {},
   "outputs": [
    {
     "name": "stdout",
     "output_type": "stream",
     "text": [
      "   m_1  m_2   l  __x  _x   x  __fi  _fi  fi   g   t\n0  NaN  NaN NaN  NaN NaN NaN   NaN  NaN NaN NaN NaN\n\n   __x  _x   x  __fi  _fi  fi   t\n1  NaN NaN NaN   NaN  NaN NaN NaN\n\n   __x  _x   x  __fi  _fi  fi   t\n1  NaN NaN NaN   NaN  NaN NaN NaN\n"
     ]
    }
   ],
   "source": [
    "#pendulum's empty atributes\n",
    "print(pendulum.record)\n",
    "print(pendulum.last_movement)\n",
    "print(pendulum.stack_of_movement)\n"
   ]
  },
  {
   "cell_type": "code",
   "execution_count": 5,
   "metadata": {},
   "outputs": [
    {
     "name": "stdout",
     "output_type": "stream",
     "text": [
      "   m_1  m_2   l  __x  _x   x  __fi  _fi  fi   g   t\n0  NaN  NaN NaN  NaN NaN NaN   NaN  NaN NaN NaN NaN\n\n   __x  _x   x  __fi  _fi  fi   t\n1  NaN NaN NaN   NaN  NaN NaN NaN\n\n   __x  _x   x  __fi  _fi  fi   t\n1  NaN NaN NaN   NaN  NaN NaN NaN\n"
     ]
    }
   ],
   "source": [
    "#Above can be done also like this:\n",
    "print(pendulum)\n"
   ]
  },
  {
   "cell_type": "heading",
   "metadata": {},
   "level": 1,
   "source": [
    "atributes are displayed as tables where first row contains features (variable) name and rows below contain features value"
   ]
  },
  {
   "cell_type": "heading",
   "metadata": {},
   "level": 1,
   "source": [
    "Setting specyfic parameters for pendulum:"
   ]
  },
  {
   "cell_type": "code",
   "execution_count": 7,
   "metadata": {},
   "outputs": [
    {
     "ename": "SyntaxError",
     "evalue": "invalid syntax (<ipython-input-7-cdca8a8de6fd>, line 1)",
     "traceback": [
      "\u001b[1;36m  File \u001b[1;32m\"<ipython-input-7-cdca8a8de6fd>\"\u001b[1;36m, line \u001b[1;32m1\u001b[0m\n\u001b[1;33m    new_record = Record(['m_1'=10, 'm_2'=1, 'l'=1, '__x'=0, '_x'=0, 'x'=0, '__fi'=0, '_fi'=0, 'fi'=0, 'g'=9.81, 't'=0])\u001b[0m\n\u001b[1;37m                              ^\u001b[0m\n\u001b[1;31mSyntaxError\u001b[0m\u001b[1;31m:\u001b[0m invalid syntax\n"
     ],
     "output_type": "error"
    }
   ],
   "source": [
    "#new_record = Record(['m_1'=10, 'm_2'=1, 'l'=1, '__x'=0, '_x'=0, 'x'=0, '__fi'=0, '_fi'=0, 'fi'=0, 'g'=9.81, 't'=0])\n",
    "#new_record = Record([m_1=10, m_2=1, l=1, __x=0, _x=0, x=0, __fi=0, _fi=0, fi=0, g=9.81, t=0])"
   ]
  },
  {
   "cell_type": "code",
   "execution_count": 17,
   "metadata": {},
   "outputs": [
    {
     "data": {
      "text/plain": [
       "{'_sa_instance_state': <sqlalchemy.orm.state.InstanceState at 0x1e125404470>,\n 'M_1': 11,\n 'I_2': 12,\n 'L': 1,\n 'A_1': 1.1,\n 'V_1': 1,\n 'U_1': 1,\n 'E_2': 2,\n 'W_2': 2,\n 'Fi_2': 2}"
      ]
     },
     "execution_count": 17,
     "metadata": {},
     "output_type": "execute_result"
    }
   ],
   "source": [
    "new_record.__dict__"
   ]
  },
  {
   "cell_type": "code",
   "execution_count": 18,
   "metadata": {},
   "outputs": [
    {
     "name": "stdout",
     "output_type": "stream",
     "text": [
      "2019-02-28 20:33:35,526 INFO sqlalchemy.engine.base.Engine INSERT INTO record (\"M_1\", \"I_2\", \"L\", \"A_1\", \"V_1\", \"U_1\", \"E_2\", \"W_2\", \"Fi_2\", \"K\", \"B\") VALUES (?, ?, ?, ?, ?, ?, ?, ?, ?, ?, ?)\n"
     ]
    },
    {
     "name": "stdout",
     "output_type": "stream",
     "text": [
      "2019-02-28 20:33:35,542 INFO sqlalchemy.engine.base.Engine (11.0, 12.0, 1.0, 1.1, 1.0, 1.0, 2.0, 2.0, 2.0, None, None)\n"
     ]
    },
    {
     "name": "stdout",
     "output_type": "stream",
     "text": [
      "2019-02-28 20:33:35,542 INFO sqlalchemy.engine.base.Engine COMMIT\n"
     ]
    }
   ],
   "source": [
    "session.add(new_record)\n",
    "session.commit()"
   ]
  },
  {
   "cell_type": "code",
   "execution_count": 15,
   "metadata": {},
   "outputs": [
    {
     "name": "stdout",
     "output_type": "stream",
     "text": [
      "2019-02-28 20:31:20,425 INFO sqlalchemy.engine.base.Engine SELECT record.id AS record_id, record.\"M_1\" AS \"record_M_1\", record.\"I_2\" AS \"record_I_2\", record.\"L\" AS \"record_L\", record.\"A_1\" AS \"record_A_1\", record.\"V_1\" AS \"record_V_1\", record.\"U_1\" AS \"record_U_1\", record.\"E_2\" AS \"record_E_2\", record.\"W_2\" AS \"record_W_2\", record.\"Fi_2\" AS \"record_Fi_2\", record.\"K\" AS \"record_K\", record.\"B\" AS \"record_B\" \nFROM record\n LIMIT ? OFFSET ?\n"
     ]
    },
    {
     "name": "stdout",
     "output_type": "stream",
     "text": [
      "2019-02-28 20:31:20,425 INFO sqlalchemy.engine.base.Engine (1, 0)\n"
     ]
    },
    {
     "name": "stdout",
     "output_type": "stream",
     "text": [
      "11.0\n"
     ]
    }
   ],
   "source": [
    "res = session.query(Record_base).first()\n",
    "print(res.M_1)"
   ]
  },
  {
   "cell_type": "code",
   "execution_count": 20,
   "metadata": {},
   "outputs": [
    {
     "ename": "ImportError",
     "evalue": "cannot import name 'Record'",
     "traceback": [
      "\u001b[1;31m---------------------------------------------------------------------------\u001b[0m",
      "\u001b[1;31mImportError\u001b[0m                               Traceback (most recent call last)",
      "\u001b[1;32m<ipython-input-20-1c6c1da96a65>\u001b[0m in \u001b[0;36m<module>\u001b[1;34m\u001b[0m\n\u001b[1;32m----> 1\u001b[1;33m \u001b[1;32mfrom\u001b[0m \u001b[0mdatabase_def\u001b[0m \u001b[1;32mimport\u001b[0m \u001b[0mRecord\u001b[0m\u001b[1;33m\u001b[0m\u001b[0m\n\u001b[0m",
      "\u001b[1;31mImportError\u001b[0m: cannot import name 'Record'"
     ],
     "output_type": "error"
    }
   ],
   "source": [
    "from database_def import Record\n"
   ]
  },
  {
   "cell_type": "code",
   "execution_count": 20,
   "metadata": {},
   "outputs": [],
   "source": []
  },
  {
   "cell_type": "code",
   "execution_count": null,
   "metadata": {},
   "outputs": [],
   "source": []
  }
 ],
 "metadata": {
  "kernelspec": {
   "display_name": "Python 2",
   "language": "python",
   "name": "python2"
  },
  "language_info": {
   "codemirror_mode": {
    "name": "ipython",
    "version": 2
   },
   "file_extension": ".py",
   "mimetype": "text/x-python",
   "name": "python",
   "nbconvert_exporter": "python",
   "pygments_lexer": "ipython2",
   "version": "2.7.6"
  }
 },
 "nbformat": 4,
 "nbformat_minor": 0
}
