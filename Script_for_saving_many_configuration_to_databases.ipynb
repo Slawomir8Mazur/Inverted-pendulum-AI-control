{
 "cells": [
  {
   "cell_type": "code",
   "execution_count": 1,
   "metadata": {},
   "outputs": [],
   "source": [
    "import numpy as np\n",
    "import pandas as pd\n",
    "import matplotlib.pyplot as plt\n",
    "from database_def import Record\n",
    "%matplotlib inline"
   ]
  },
  {
   "cell_type": "code",
   "execution_count": 11,
   "metadata": {},
   "outputs": [],
   "source": [
    "angle_positions = range(1, 100, 5)\n",
    "force_values = range(0, 1000, 50)\n",
    "time_values = [value/10 for value in range(0, 20, 2)]"
   ]
  },
  {
   "cell_type": "code",
   "execution_count": 24,
   "metadata": {},
   "outputs": [],
   "source": [
    "configuration = [((force, time), angle) for time in time_values\n",
    "                                        for force in force_values\n",
    "                                        for angle in angle_positions\n",
    "                ]"
   ]
  },
  {
   "cell_type": "code",
   "execution_count": 25,
   "metadata": {},
   "outputs": [
    {
     "name": "stdout",
     "output_type": "stream",
     "text": [
      "4000\n",
      "[((0, 0.0), 1), ((0, 0.0), 6), ((0, 0.0), 11), ((0, 0.0), 16), ((0, 0.0), 21), ((0, 0.0), 26)]\n"
     ]
    }
   ],
   "source": [
    "print(len(configuration))\n",
    "print(configuration[:6])"
   ]
  },
  {
   "cell_type": "code",
   "execution_count": 26,
   "metadata": {},
   "outputs": [
    {
     "name": "stdout",
     "output_type": "stream",
     "text": [
      "['parameters_0', 'parameters_1', 'parameters_2', 'parameters_3', 'parameters_4', 'parameters_5']\n"
     ]
    }
   ],
   "source": [
    "names = ['parameters_' + str(i) for i in range(len(configuration))]\n",
    "print(names[:6])"
   ]
  },
  {
   "cell_type": "code",
   "execution_count": 27,
   "metadata": {},
   "outputs": [
    {
     "name": "stdout",
     "output_type": "stream",
     "text": [
      "4000 4000\n"
     ]
    }
   ],
   "source": [
    "print(len(names), len(configuration))"
   ]
  },
  {
   "cell_type": "code",
   "execution_count": null,
   "metadata": {},
   "outputs": [],
   "source": []
  }
 ],
 "metadata": {
  "kernelspec": {
   "display_name": "Python 3",
   "language": "python",
   "name": "python3"
  },
  "language_info": {
   "codemirror_mode": {
    "name": "ipython",
    "version": 3
   },
   "file_extension": ".py",
   "mimetype": "text/x-python",
   "name": "python",
   "nbconvert_exporter": "python",
   "pygments_lexer": "ipython3",
   "version": "3.7.0"
  }
 },
 "nbformat": 4,
 "nbformat_minor": 2
}
