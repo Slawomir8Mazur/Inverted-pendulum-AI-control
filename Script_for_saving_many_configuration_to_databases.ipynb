{
 "cells": [
  {
   "cell_type": "code",
   "execution_count": 1,
   "metadata": {},
   "outputs": [],
   "source": [
    "import matplotlib.pyplot as plt\n",
    "from database_def import Record\n",
    "%matplotlib inline"
   ]
  },
  {
   "cell_type": "code",
   "execution_count": 2,
   "metadata": {},
   "outputs": [],
   "source": [
    "angle_positions = range(1, 361, 5)\n",
    "force_values = range(-2000, 2000, 50)\n",
    "time_value = 10"
   ]
  },
  {
   "cell_type": "code",
   "execution_count": 3,
   "metadata": {},
   "outputs": [],
   "source": [
    "configuration = [((force, time_value), angle) for force in force_values\n",
    "                                              for angle in angle_positions\n",
    "                ]"
   ]
  },
  {
   "cell_type": "code",
   "execution_count": 4,
   "metadata": {},
   "outputs": [
    {
     "name": "stdout",
     "output_type": "stream",
     "text": [
      "5760\n[((-2000, 10), 1), ((-2000, 10), 6), ((-2000, 10), 11), ((-2000, 10), 16), ((-2000, 10), 21), ((-2000, 10), 26)]\n"
     ]
    }
   ],
   "source": [
    "print(len(configuration))\n",
    "print(configuration[:6])"
   ]
  },
  {
   "cell_type": "code",
   "execution_count": 5,
   "metadata": {},
   "outputs": [
    {
     "name": "stdout",
     "output_type": "stream",
     "text": [
      "['F_-2000_angle_1', 'F_-2000_angle_6', 'F_-2000_angle_11', 'F_-2000_angle_16', 'F_-2000_angle_21', 'F_-2000_angle_26']\n"
     ]
    }
   ],
   "source": [
    "names = []\n",
    "for ((force, time_value), angle) in configuration:\n",
    "    names.append(\"F_%d_angle_%d\" % (force, angle))\n",
    "print(names[:6])"
   ]
  },
  {
   "cell_type": "code",
   "execution_count": 6,
   "metadata": {},
   "outputs": [
    {
     "name": "stdout",
     "output_type": "stream",
     "text": [
      "['main_databases/F_-2000_angle_1', 'main_databases/F_-2000_angle_6', 'main_databases/F_-2000_angle_11']\n"
     ]
    }
   ],
   "source": [
    "path_folder = 'main_databases/'\n",
    "for i, name in enumerate(names):\n",
    "    names[i] = path_folder + name\n",
    "print(names[:3])"
   ]
  },
  {
   "cell_type": "code",
   "execution_count": 7,
   "metadata": {},
   "outputs": [
    {
     "name": "stdout",
     "output_type": "stream",
     "text": [
      "5760 5760\n"
     ]
    }
   ],
   "source": [
    "print(len(names), len(configuration))"
   ]
  },
  {
   "cell_type": "markdown",
   "metadata": {},
   "source": [
    "#for tests\n",
    "configuration = configuration[:4]\n",
    "print(configuration)"
   ]
  },
  {
   "cell_type": "markdown",
   "metadata": {},
   "source": [
    "#for tests\n",
    "for position, ((force, time), angle) in enumerate(configuration):\n",
    "    print(position, force, time, angle)"
   ]
  },
  {
   "cell_type": "code",
   "execution_count": 10,
   "metadata": {},
   "outputs": [
    {
     "name": "stdout",
     "output_type": "stream",
     "text": [
      "Progres: 94.8, Saved to main_databases/F_1750_angle_306\n"
     ]
    },
    {
     "name": "stdout",
     "output_type": "stream",
     "text": [
      "Progres: 94.8, Saved to main_databases/F_1750_angle_311\n"
     ]
    },
    {
     "name": "stdout",
     "output_type": "stream",
     "text": [
      "Progres: 94.8, Saved to main_databases/F_1750_angle_316\n"
     ]
    },
    {
     "name": "stdout",
     "output_type": "stream",
     "text": [
      "Progres: 94.9, Saved to main_databases/F_1750_angle_321\n"
     ]
    },
    {
     "name": "stdout",
     "output_type": "stream",
     "text": [
      "Progres: 94.9, Saved to main_databases/F_1750_angle_326\n"
     ]
    },
    {
     "name": "stdout",
     "output_type": "stream",
     "text": [
      "Progres: 94.9, Saved to main_databases/F_1750_angle_331\n"
     ]
    },
    {
     "name": "stdout",
     "output_type": "stream",
     "text": [
      "Progres: 94.9, Saved to main_databases/F_1750_angle_336\n"
     ]
    },
    {
     "name": "stdout",
     "output_type": "stream",
     "text": [
      "Progres: 94.9, Saved to main_databases/F_1750_angle_341\n"
     ]
    },
    {
     "name": "stdout",
     "output_type": "stream",
     "text": [
      "Progres: 94.9, Saved to main_databases/F_1750_angle_346\n"
     ]
    },
    {
     "name": "stdout",
     "output_type": "stream",
     "text": [
      "Progres: 95.0, Saved to main_databases/F_1750_angle_351\n"
     ]
    },
    {
     "name": "stdout",
     "output_type": "stream",
     "text": [
      "Progres: 95.0, Saved to main_databases/F_1750_angle_356\n"
     ]
    },
    {
     "name": "stdout",
     "output_type": "stream",
     "text": [
      "Progres: 95.0, Saved to main_databases/F_1800_angle_1\n"
     ]
    },
    {
     "name": "stdout",
     "output_type": "stream",
     "text": [
      "Progres: 95.0, Saved to main_databases/F_1800_angle_6\n"
     ]
    },
    {
     "name": "stdout",
     "output_type": "stream",
     "text": [
      "Progres: 95.0, Saved to main_databases/F_1800_angle_11\n"
     ]
    },
    {
     "name": "stdout",
     "output_type": "stream",
     "text": [
      "Progres: 95.1, Saved to main_databases/F_1800_angle_16\n"
     ]
    },
    {
     "name": "stdout",
     "output_type": "stream",
     "text": [
      "Progres: 95.1, Saved to main_databases/F_1800_angle_21\n"
     ]
    },
    {
     "name": "stdout",
     "output_type": "stream",
     "text": [
      "Progres: 95.1, Saved to main_databases/F_1800_angle_26\n"
     ]
    },
    {
     "name": "stdout",
     "output_type": "stream",
     "text": [
      "Progres: 95.1, Saved to main_databases/F_1800_angle_31\n"
     ]
    },
    {
     "name": "stdout",
     "output_type": "stream",
     "text": [
      "Progres: 95.1, Saved to main_databases/F_1800_angle_36\n"
     ]
    },
    {
     "name": "stdout",
     "output_type": "stream",
     "text": [
      "Progres: 95.1, Saved to main_databases/F_1800_angle_41\n"
     ]
    },
    {
     "name": "stdout",
     "output_type": "stream",
     "text": [
      "Progres: 95.2, Saved to main_databases/F_1800_angle_46\n"
     ]
    },
    {
     "name": "stdout",
     "output_type": "stream",
     "text": [
      "Progres: 95.2, Saved to main_databases/F_1800_angle_51\n"
     ]
    },
    {
     "name": "stdout",
     "output_type": "stream",
     "text": [
      "Progres: 95.2, Saved to main_databases/F_1800_angle_56\n"
     ]
    },
    {
     "name": "stdout",
     "output_type": "stream",
     "text": [
      "Progres: 95.2, Saved to main_databases/F_1800_angle_61\n"
     ]
    },
    {
     "name": "stdout",
     "output_type": "stream",
     "text": [
      "Progres: 95.2, Saved to main_databases/F_1800_angle_66\n"
     ]
    },
    {
     "name": "stdout",
     "output_type": "stream",
     "text": [
      "Progres: 95.2, Saved to main_databases/F_1800_angle_71\n"
     ]
    },
    {
     "name": "stdout",
     "output_type": "stream",
     "text": [
      "Progres: 95.3, Saved to main_databases/F_1800_angle_76\n"
     ]
    },
    {
     "name": "stdout",
     "output_type": "stream",
     "text": [
      "Progres: 95.3, Saved to main_databases/F_1800_angle_81\n"
     ]
    },
    {
     "name": "stdout",
     "output_type": "stream",
     "text": [
      "Progres: 95.3, Saved to main_databases/F_1800_angle_86\n"
     ]
    },
    {
     "name": "stdout",
     "output_type": "stream",
     "text": [
      "Progres: 95.3, Saved to main_databases/F_1800_angle_91\n"
     ]
    },
    {
     "name": "stdout",
     "output_type": "stream",
     "text": [
      "Progres: 95.3, Saved to main_databases/F_1800_angle_96\n"
     ]
    },
    {
     "name": "stdout",
     "output_type": "stream",
     "text": [
      "Progres: 95.3, Saved to main_databases/F_1800_angle_101\n"
     ]
    },
    {
     "name": "stdout",
     "output_type": "stream",
     "text": [
      "Progres: 95.4, Saved to main_databases/F_1800_angle_106\n"
     ]
    },
    {
     "name": "stdout",
     "output_type": "stream",
     "text": [
      "Progres: 95.4, Saved to main_databases/F_1800_angle_111\n"
     ]
    },
    {
     "name": "stdout",
     "output_type": "stream",
     "text": [
      "Progres: 95.4, Saved to main_databases/F_1800_angle_116\n"
     ]
    },
    {
     "name": "stdout",
     "output_type": "stream",
     "text": [
      "Progres: 95.4, Saved to main_databases/F_1800_angle_121\n"
     ]
    },
    {
     "name": "stdout",
     "output_type": "stream",
     "text": [
      "Progres: 95.4, Saved to main_databases/F_1800_angle_126\n"
     ]
    },
    {
     "name": "stdout",
     "output_type": "stream",
     "text": [
      "Progres: 95.5, Saved to main_databases/F_1800_angle_131\n"
     ]
    },
    {
     "name": "stdout",
     "output_type": "stream",
     "text": [
      "Progres: 95.5, Saved to main_databases/F_1800_angle_136\n"
     ]
    },
    {
     "name": "stdout",
     "output_type": "stream",
     "text": [
      "Progres: 95.5, Saved to main_databases/F_1800_angle_141\n"
     ]
    },
    {
     "name": "stdout",
     "output_type": "stream",
     "text": [
      "Progres: 95.5, Saved to main_databases/F_1800_angle_146\n"
     ]
    },
    {
     "name": "stdout",
     "output_type": "stream",
     "text": [
      "Progres: 95.5, Saved to main_databases/F_1800_angle_151\n"
     ]
    },
    {
     "name": "stdout",
     "output_type": "stream",
     "text": [
      "Progres: 95.5, Saved to main_databases/F_1800_angle_156\n"
     ]
    },
    {
     "name": "stdout",
     "output_type": "stream",
     "text": [
      "Progres: 95.6, Saved to main_databases/F_1800_angle_161\n"
     ]
    },
    {
     "name": "stdout",
     "output_type": "stream",
     "text": [
      "Progres: 95.6, Saved to main_databases/F_1800_angle_166\n"
     ]
    },
    {
     "name": "stdout",
     "output_type": "stream",
     "text": [
      "Progres: 95.6, Saved to main_databases/F_1800_angle_171\n"
     ]
    },
    {
     "name": "stdout",
     "output_type": "stream",
     "text": [
      "Progres: 95.6, Saved to main_databases/F_1800_angle_176\n"
     ]
    },
    {
     "name": "stdout",
     "output_type": "stream",
     "text": [
      "Progres: 95.6, Saved to main_databases/F_1800_angle_181\n"
     ]
    },
    {
     "name": "stdout",
     "output_type": "stream",
     "text": [
      "Progres: 95.6, Saved to main_databases/F_1800_angle_186\n"
     ]
    },
    {
     "name": "stdout",
     "output_type": "stream",
     "text": [
      "Progres: 95.7, Saved to main_databases/F_1800_angle_191\n"
     ]
    },
    {
     "name": "stdout",
     "output_type": "stream",
     "text": [
      "Progres: 95.7, Saved to main_databases/F_1800_angle_196\n"
     ]
    },
    {
     "name": "stdout",
     "output_type": "stream",
     "text": [
      "Progres: 95.7, Saved to main_databases/F_1800_angle_201\n"
     ]
    },
    {
     "name": "stdout",
     "output_type": "stream",
     "text": [
      "Progres: 95.7, Saved to main_databases/F_1800_angle_206\n"
     ]
    },
    {
     "name": "stdout",
     "output_type": "stream",
     "text": [
      "Progres: 95.7, Saved to main_databases/F_1800_angle_211\n"
     ]
    },
    {
     "name": "stdout",
     "output_type": "stream",
     "text": [
      "Progres: 95.7, Saved to main_databases/F_1800_angle_216\n"
     ]
    },
    {
     "name": "stdout",
     "output_type": "stream",
     "text": [
      "Progres: 95.8, Saved to main_databases/F_1800_angle_221\n"
     ]
    },
    {
     "name": "stdout",
     "output_type": "stream",
     "text": [
      "Progres: 95.8, Saved to main_databases/F_1800_angle_226\n"
     ]
    },
    {
     "name": "stdout",
     "output_type": "stream",
     "text": [
      "Progres: 95.8, Saved to main_databases/F_1800_angle_231\n"
     ]
    },
    {
     "name": "stdout",
     "output_type": "stream",
     "text": [
      "Progres: 95.8, Saved to main_databases/F_1800_angle_236\n"
     ]
    },
    {
     "name": "stdout",
     "output_type": "stream",
     "text": [
      "Progres: 95.8, Saved to main_databases/F_1800_angle_241\n"
     ]
    },
    {
     "name": "stdout",
     "output_type": "stream",
     "text": [
      "Progres: 95.9, Saved to main_databases/F_1800_angle_246\n"
     ]
    },
    {
     "name": "stdout",
     "output_type": "stream",
     "text": [
      "Progres: 95.9, Saved to main_databases/F_1800_angle_251\n"
     ]
    },
    {
     "name": "stdout",
     "output_type": "stream",
     "text": [
      "Progres: 95.9, Saved to main_databases/F_1800_angle_256\n"
     ]
    },
    {
     "name": "stdout",
     "output_type": "stream",
     "text": [
      "Progres: 95.9, Saved to main_databases/F_1800_angle_261\n"
     ]
    },
    {
     "name": "stdout",
     "output_type": "stream",
     "text": [
      "Progres: 95.9, Saved to main_databases/F_1800_angle_266\n"
     ]
    },
    {
     "name": "stdout",
     "output_type": "stream",
     "text": [
      "Progres: 95.9, Saved to main_databases/F_1800_angle_271\n"
     ]
    },
    {
     "name": "stdout",
     "output_type": "stream",
     "text": [
      "Progres: 96.0, Saved to main_databases/F_1800_angle_276\n"
     ]
    },
    {
     "name": "stdout",
     "output_type": "stream",
     "text": [
      "Progres: 96.0, Saved to main_databases/F_1800_angle_281\n"
     ]
    },
    {
     "name": "stdout",
     "output_type": "stream",
     "text": [
      "Progres: 96.0, Saved to main_databases/F_1800_angle_286\n"
     ]
    },
    {
     "name": "stdout",
     "output_type": "stream",
     "text": [
      "Progres: 96.0, Saved to main_databases/F_1800_angle_291\n"
     ]
    },
    {
     "name": "stdout",
     "output_type": "stream",
     "text": [
      "Progres: 96.0, Saved to main_databases/F_1800_angle_296\n"
     ]
    },
    {
     "name": "stdout",
     "output_type": "stream",
     "text": [
      "Progres: 96.0, Saved to main_databases/F_1800_angle_301\n"
     ]
    },
    {
     "name": "stdout",
     "output_type": "stream",
     "text": [
      "Progres: 96.1, Saved to main_databases/F_1800_angle_306\n"
     ]
    },
    {
     "name": "stdout",
     "output_type": "stream",
     "text": [
      "Progres: 96.1, Saved to main_databases/F_1800_angle_311\n"
     ]
    },
    {
     "name": "stdout",
     "output_type": "stream",
     "text": [
      "Progres: 96.1, Saved to main_databases/F_1800_angle_316\n"
     ]
    },
    {
     "name": "stdout",
     "output_type": "stream",
     "text": [
      "Progres: 96.1, Saved to main_databases/F_1800_angle_321\n"
     ]
    },
    {
     "name": "stdout",
     "output_type": "stream",
     "text": [
      "Progres: 96.1, Saved to main_databases/F_1800_angle_326\n"
     ]
    },
    {
     "name": "stdout",
     "output_type": "stream",
     "text": [
      "Progres: 96.1, Saved to main_databases/F_1800_angle_331\n"
     ]
    },
    {
     "name": "stdout",
     "output_type": "stream",
     "text": [
      "Progres: 96.2, Saved to main_databases/F_1800_angle_336\n"
     ]
    },
    {
     "name": "stdout",
     "output_type": "stream",
     "text": [
      "Progres: 96.2, Saved to main_databases/F_1800_angle_341\n"
     ]
    },
    {
     "name": "stdout",
     "output_type": "stream",
     "text": [
      "Progres: 96.2, Saved to main_databases/F_1800_angle_346\n"
     ]
    },
    {
     "name": "stdout",
     "output_type": "stream",
     "text": [
      "Progres: 96.2, Saved to main_databases/F_1800_angle_351\n"
     ]
    },
    {
     "name": "stdout",
     "output_type": "stream",
     "text": [
      "Progres: 96.2, Saved to main_databases/F_1800_angle_356\n"
     ]
    },
    {
     "name": "stdout",
     "output_type": "stream",
     "text": [
      "Progres: 96.2, Saved to main_databases/F_1850_angle_1\n"
     ]
    },
    {
     "name": "stdout",
     "output_type": "stream",
     "text": [
      "Progres: 96.3, Saved to main_databases/F_1850_angle_6\n"
     ]
    },
    {
     "name": "stdout",
     "output_type": "stream",
     "text": [
      "Progres: 96.3, Saved to main_databases/F_1850_angle_11\n"
     ]
    },
    {
     "name": "stdout",
     "output_type": "stream",
     "text": [
      "Progres: 96.3, Saved to main_databases/F_1850_angle_16\n"
     ]
    },
    {
     "name": "stdout",
     "output_type": "stream",
     "text": [
      "Progres: 96.3, Saved to main_databases/F_1850_angle_21\n"
     ]
    },
    {
     "name": "stdout",
     "output_type": "stream",
     "text": [
      "Progres: 96.3, Saved to main_databases/F_1850_angle_26\n"
     ]
    },
    {
     "name": "stdout",
     "output_type": "stream",
     "text": [
      "Progres: 96.4, Saved to main_databases/F_1850_angle_31\n"
     ]
    },
    {
     "name": "stdout",
     "output_type": "stream",
     "text": [
      "Progres: 96.4, Saved to main_databases/F_1850_angle_36\n"
     ]
    },
    {
     "name": "stdout",
     "output_type": "stream",
     "text": [
      "Progres: 96.4, Saved to main_databases/F_1850_angle_41\n"
     ]
    },
    {
     "name": "stdout",
     "output_type": "stream",
     "text": [
      "Progres: 96.4, Saved to main_databases/F_1850_angle_46\n"
     ]
    },
    {
     "name": "stdout",
     "output_type": "stream",
     "text": [
      "Progres: 96.4, Saved to main_databases/F_1850_angle_51\n"
     ]
    },
    {
     "name": "stdout",
     "output_type": "stream",
     "text": [
      "Progres: 96.4, Saved to main_databases/F_1850_angle_56\n"
     ]
    },
    {
     "name": "stdout",
     "output_type": "stream",
     "text": [
      "Progres: 96.5, Saved to main_databases/F_1850_angle_61\n"
     ]
    },
    {
     "name": "stdout",
     "output_type": "stream",
     "text": [
      "Progres: 96.5, Saved to main_databases/F_1850_angle_66\n"
     ]
    },
    {
     "name": "stdout",
     "output_type": "stream",
     "text": [
      "Progres: 96.5, Saved to main_databases/F_1850_angle_71\n"
     ]
    },
    {
     "name": "stdout",
     "output_type": "stream",
     "text": [
      "Progres: 96.5, Saved to main_databases/F_1850_angle_76\n"
     ]
    },
    {
     "name": "stdout",
     "output_type": "stream",
     "text": [
      "Progres: 96.5, Saved to main_databases/F_1850_angle_81\n"
     ]
    },
    {
     "name": "stdout",
     "output_type": "stream",
     "text": [
      "Progres: 96.5, Saved to main_databases/F_1850_angle_86\n"
     ]
    },
    {
     "name": "stdout",
     "output_type": "stream",
     "text": [
      "Progres: 96.6, Saved to main_databases/F_1850_angle_91\n"
     ]
    },
    {
     "name": "stdout",
     "output_type": "stream",
     "text": [
      "Progres: 96.6, Saved to main_databases/F_1850_angle_96\n"
     ]
    },
    {
     "name": "stdout",
     "output_type": "stream",
     "text": [
      "Progres: 96.6, Saved to main_databases/F_1850_angle_101\n"
     ]
    },
    {
     "name": "stdout",
     "output_type": "stream",
     "text": [
      "Progres: 96.6, Saved to main_databases/F_1850_angle_106\n"
     ]
    },
    {
     "name": "stdout",
     "output_type": "stream",
     "text": [
      "Progres: 96.6, Saved to main_databases/F_1850_angle_111\n"
     ]
    },
    {
     "name": "stdout",
     "output_type": "stream",
     "text": [
      "Progres: 96.6, Saved to main_databases/F_1850_angle_116\n"
     ]
    },
    {
     "name": "stdout",
     "output_type": "stream",
     "text": [
      "Progres: 96.7, Saved to main_databases/F_1850_angle_121\n"
     ]
    },
    {
     "name": "stdout",
     "output_type": "stream",
     "text": [
      "Progres: 96.7, Saved to main_databases/F_1850_angle_126\n"
     ]
    },
    {
     "name": "stdout",
     "output_type": "stream",
     "text": [
      "Progres: 96.7, Saved to main_databases/F_1850_angle_131\n"
     ]
    },
    {
     "name": "stdout",
     "output_type": "stream",
     "text": [
      "Progres: 96.7, Saved to main_databases/F_1850_angle_136\n"
     ]
    },
    {
     "name": "stdout",
     "output_type": "stream",
     "text": [
      "Progres: 96.7, Saved to main_databases/F_1850_angle_141\n"
     ]
    },
    {
     "name": "stdout",
     "output_type": "stream",
     "text": [
      "Progres: 96.8, Saved to main_databases/F_1850_angle_146\n"
     ]
    },
    {
     "name": "stdout",
     "output_type": "stream",
     "text": [
      "Progres: 96.8, Saved to main_databases/F_1850_angle_151\n"
     ]
    },
    {
     "name": "stdout",
     "output_type": "stream",
     "text": [
      "Progres: 96.8, Saved to main_databases/F_1850_angle_156\n"
     ]
    },
    {
     "name": "stdout",
     "output_type": "stream",
     "text": [
      "Progres: 96.8, Saved to main_databases/F_1850_angle_161\n"
     ]
    },
    {
     "name": "stdout",
     "output_type": "stream",
     "text": [
      "Progres: 96.8, Saved to main_databases/F_1850_angle_166\n"
     ]
    },
    {
     "name": "stdout",
     "output_type": "stream",
     "text": [
      "Progres: 96.8, Saved to main_databases/F_1850_angle_171\n"
     ]
    },
    {
     "name": "stdout",
     "output_type": "stream",
     "text": [
      "Progres: 96.9, Saved to main_databases/F_1850_angle_176\n"
     ]
    },
    {
     "name": "stdout",
     "output_type": "stream",
     "text": [
      "Progres: 96.9, Saved to main_databases/F_1850_angle_181\n"
     ]
    },
    {
     "name": "stdout",
     "output_type": "stream",
     "text": [
      "Progres: 96.9, Saved to main_databases/F_1850_angle_186\n"
     ]
    },
    {
     "name": "stdout",
     "output_type": "stream",
     "text": [
      "Progres: 96.9, Saved to main_databases/F_1850_angle_191\n"
     ]
    },
    {
     "name": "stdout",
     "output_type": "stream",
     "text": [
      "Progres: 96.9, Saved to main_databases/F_1850_angle_196\n"
     ]
    },
    {
     "name": "stdout",
     "output_type": "stream",
     "text": [
      "Progres: 96.9, Saved to main_databases/F_1850_angle_201\n"
     ]
    },
    {
     "name": "stdout",
     "output_type": "stream",
     "text": [
      "Progres: 97.0, Saved to main_databases/F_1850_angle_206\n"
     ]
    },
    {
     "name": "stdout",
     "output_type": "stream",
     "text": [
      "Progres: 97.0, Saved to main_databases/F_1850_angle_211\n"
     ]
    },
    {
     "name": "stdout",
     "output_type": "stream",
     "text": [
      "Progres: 97.0, Saved to main_databases/F_1850_angle_216\n"
     ]
    },
    {
     "name": "stdout",
     "output_type": "stream",
     "text": [
      "Progres: 97.0, Saved to main_databases/F_1850_angle_221\n"
     ]
    },
    {
     "name": "stdout",
     "output_type": "stream",
     "text": [
      "Progres: 97.0, Saved to main_databases/F_1850_angle_226\n"
     ]
    },
    {
     "name": "stdout",
     "output_type": "stream",
     "text": [
      "Progres: 97.0, Saved to main_databases/F_1850_angle_231\n"
     ]
    },
    {
     "name": "stdout",
     "output_type": "stream",
     "text": [
      "Progres: 97.1, Saved to main_databases/F_1850_angle_236\n"
     ]
    },
    {
     "name": "stdout",
     "output_type": "stream",
     "text": [
      "Progres: 97.1, Saved to main_databases/F_1850_angle_241\n"
     ]
    },
    {
     "name": "stdout",
     "output_type": "stream",
     "text": [
      "Progres: 97.1, Saved to main_databases/F_1850_angle_246\n"
     ]
    },
    {
     "name": "stdout",
     "output_type": "stream",
     "text": [
      "Progres: 97.1, Saved to main_databases/F_1850_angle_251\n"
     ]
    },
    {
     "name": "stdout",
     "output_type": "stream",
     "text": [
      "Progres: 97.1, Saved to main_databases/F_1850_angle_256\n"
     ]
    },
    {
     "name": "stdout",
     "output_type": "stream",
     "text": [
      "Progres: 97.2, Saved to main_databases/F_1850_angle_261\n"
     ]
    },
    {
     "name": "stdout",
     "output_type": "stream",
     "text": [
      "Progres: 97.2, Saved to main_databases/F_1850_angle_266\n"
     ]
    },
    {
     "name": "stdout",
     "output_type": "stream",
     "text": [
      "Progres: 97.2, Saved to main_databases/F_1850_angle_271\n"
     ]
    },
    {
     "name": "stdout",
     "output_type": "stream",
     "text": [
      "Progres: 97.2, Saved to main_databases/F_1850_angle_276\n"
     ]
    },
    {
     "name": "stdout",
     "output_type": "stream",
     "text": [
      "Progres: 97.2, Saved to main_databases/F_1850_angle_281\n"
     ]
    },
    {
     "name": "stdout",
     "output_type": "stream",
     "text": [
      "Progres: 97.2, Saved to main_databases/F_1850_angle_286\n"
     ]
    },
    {
     "name": "stdout",
     "output_type": "stream",
     "text": [
      "Progres: 97.3, Saved to main_databases/F_1850_angle_291\n"
     ]
    },
    {
     "name": "stdout",
     "output_type": "stream",
     "text": [
      "Progres: 97.3, Saved to main_databases/F_1850_angle_296\n"
     ]
    },
    {
     "name": "stdout",
     "output_type": "stream",
     "text": [
      "Progres: 97.3, Saved to main_databases/F_1850_angle_301\n"
     ]
    },
    {
     "name": "stdout",
     "output_type": "stream",
     "text": [
      "Progres: 97.3, Saved to main_databases/F_1850_angle_306\n"
     ]
    },
    {
     "name": "stdout",
     "output_type": "stream",
     "text": [
      "Progres: 97.3, Saved to main_databases/F_1850_angle_311\n"
     ]
    },
    {
     "name": "stdout",
     "output_type": "stream",
     "text": [
      "Progres: 97.3, Saved to main_databases/F_1850_angle_316\n"
     ]
    },
    {
     "name": "stdout",
     "output_type": "stream",
     "text": [
      "Progres: 97.4, Saved to main_databases/F_1850_angle_321\n"
     ]
    },
    {
     "name": "stdout",
     "output_type": "stream",
     "text": [
      "Progres: 97.4, Saved to main_databases/F_1850_angle_326\n"
     ]
    },
    {
     "name": "stdout",
     "output_type": "stream",
     "text": [
      "Progres: 97.4, Saved to main_databases/F_1850_angle_331\n"
     ]
    },
    {
     "name": "stdout",
     "output_type": "stream",
     "text": [
      "Progres: 97.4, Saved to main_databases/F_1850_angle_336\n"
     ]
    },
    {
     "name": "stdout",
     "output_type": "stream",
     "text": [
      "Progres: 97.4, Saved to main_databases/F_1850_angle_341\n"
     ]
    },
    {
     "name": "stdout",
     "output_type": "stream",
     "text": [
      "Progres: 97.4, Saved to main_databases/F_1850_angle_346\n"
     ]
    },
    {
     "name": "stdout",
     "output_type": "stream",
     "text": [
      "Progres: 97.5, Saved to main_databases/F_1850_angle_351\n"
     ]
    },
    {
     "name": "stdout",
     "output_type": "stream",
     "text": [
      "Progres: 97.5, Saved to main_databases/F_1850_angle_356\n"
     ]
    },
    {
     "name": "stdout",
     "output_type": "stream",
     "text": [
      "Progres: 97.5, Saved to main_databases/F_1900_angle_1\n"
     ]
    },
    {
     "name": "stdout",
     "output_type": "stream",
     "text": [
      "Progres: 97.5, Saved to main_databases/F_1900_angle_6\n"
     ]
    },
    {
     "name": "stdout",
     "output_type": "stream",
     "text": [
      "Progres: 97.5, Saved to main_databases/F_1900_angle_11\n"
     ]
    },
    {
     "name": "stdout",
     "output_type": "stream",
     "text": [
      "Progres: 97.6, Saved to main_databases/F_1900_angle_16\n"
     ]
    },
    {
     "name": "stdout",
     "output_type": "stream",
     "text": [
      "Progres: 97.6, Saved to main_databases/F_1900_angle_21\n"
     ]
    },
    {
     "name": "stdout",
     "output_type": "stream",
     "text": [
      "Progres: 97.6, Saved to main_databases/F_1900_angle_26\n"
     ]
    },
    {
     "name": "stdout",
     "output_type": "stream",
     "text": [
      "Progres: 97.6, Saved to main_databases/F_1900_angle_31\n"
     ]
    },
    {
     "name": "stdout",
     "output_type": "stream",
     "text": [
      "Progres: 97.6, Saved to main_databases/F_1900_angle_36\n"
     ]
    },
    {
     "name": "stdout",
     "output_type": "stream",
     "text": [
      "Progres: 97.6, Saved to main_databases/F_1900_angle_41\n"
     ]
    },
    {
     "name": "stdout",
     "output_type": "stream",
     "text": [
      "Progres: 97.7, Saved to main_databases/F_1900_angle_46\n"
     ]
    },
    {
     "name": "stdout",
     "output_type": "stream",
     "text": [
      "Progres: 97.7, Saved to main_databases/F_1900_angle_51\n"
     ]
    },
    {
     "name": "stdout",
     "output_type": "stream",
     "text": [
      "Progres: 97.7, Saved to main_databases/F_1900_angle_56\n"
     ]
    },
    {
     "name": "stdout",
     "output_type": "stream",
     "text": [
      "Progres: 97.7, Saved to main_databases/F_1900_angle_61\n"
     ]
    },
    {
     "name": "stdout",
     "output_type": "stream",
     "text": [
      "Progres: 97.7, Saved to main_databases/F_1900_angle_66\n"
     ]
    },
    {
     "name": "stdout",
     "output_type": "stream",
     "text": [
      "Progres: 97.7, Saved to main_databases/F_1900_angle_71\n"
     ]
    },
    {
     "name": "stdout",
     "output_type": "stream",
     "text": [
      "Progres: 97.8, Saved to main_databases/F_1900_angle_76\n"
     ]
    },
    {
     "name": "stdout",
     "output_type": "stream",
     "text": [
      "Progres: 97.8, Saved to main_databases/F_1900_angle_81\n"
     ]
    },
    {
     "name": "stdout",
     "output_type": "stream",
     "text": [
      "Progres: 97.8, Saved to main_databases/F_1900_angle_86\n"
     ]
    },
    {
     "name": "stdout",
     "output_type": "stream",
     "text": [
      "Progres: 97.8, Saved to main_databases/F_1900_angle_91\n"
     ]
    },
    {
     "name": "stdout",
     "output_type": "stream",
     "text": [
      "Progres: 97.8, Saved to main_databases/F_1900_angle_96\n"
     ]
    },
    {
     "name": "stdout",
     "output_type": "stream",
     "text": [
      "Progres: 97.8, Saved to main_databases/F_1900_angle_101\n"
     ]
    },
    {
     "name": "stdout",
     "output_type": "stream",
     "text": [
      "Progres: 97.9, Saved to main_databases/F_1900_angle_106\n"
     ]
    },
    {
     "name": "stdout",
     "output_type": "stream",
     "text": [
      "Progres: 97.9, Saved to main_databases/F_1900_angle_111\n"
     ]
    },
    {
     "name": "stdout",
     "output_type": "stream",
     "text": [
      "Progres: 97.9, Saved to main_databases/F_1900_angle_116\n"
     ]
    },
    {
     "name": "stdout",
     "output_type": "stream",
     "text": [
      "Progres: 97.9, Saved to main_databases/F_1900_angle_121\n"
     ]
    },
    {
     "name": "stdout",
     "output_type": "stream",
     "text": [
      "Progres: 97.9, Saved to main_databases/F_1900_angle_126\n"
     ]
    },
    {
     "name": "stdout",
     "output_type": "stream",
     "text": [
      "Progres: 98.0, Saved to main_databases/F_1900_angle_131\n"
     ]
    },
    {
     "name": "stdout",
     "output_type": "stream",
     "text": [
      "Progres: 98.0, Saved to main_databases/F_1900_angle_136\n"
     ]
    },
    {
     "name": "stdout",
     "output_type": "stream",
     "text": [
      "Progres: 98.0, Saved to main_databases/F_1900_angle_141\n"
     ]
    },
    {
     "name": "stdout",
     "output_type": "stream",
     "text": [
      "Progres: 98.0, Saved to main_databases/F_1900_angle_146\n"
     ]
    },
    {
     "name": "stdout",
     "output_type": "stream",
     "text": [
      "Progres: 98.0, Saved to main_databases/F_1900_angle_151\n"
     ]
    },
    {
     "name": "stdout",
     "output_type": "stream",
     "text": [
      "Progres: 98.0, Saved to main_databases/F_1900_angle_156\n"
     ]
    },
    {
     "name": "stdout",
     "output_type": "stream",
     "text": [
      "Progres: 98.1, Saved to main_databases/F_1900_angle_161\n"
     ]
    },
    {
     "name": "stdout",
     "output_type": "stream",
     "text": [
      "Progres: 98.1, Saved to main_databases/F_1900_angle_166\n"
     ]
    },
    {
     "name": "stdout",
     "output_type": "stream",
     "text": [
      "Progres: 98.1, Saved to main_databases/F_1900_angle_171\n"
     ]
    },
    {
     "name": "stdout",
     "output_type": "stream",
     "text": [
      "Progres: 98.1, Saved to main_databases/F_1900_angle_176\n"
     ]
    },
    {
     "name": "stdout",
     "output_type": "stream",
     "text": [
      "Progres: 98.1, Saved to main_databases/F_1900_angle_181\n"
     ]
    },
    {
     "name": "stdout",
     "output_type": "stream",
     "text": [
      "Progres: 98.1, Saved to main_databases/F_1900_angle_186\n"
     ]
    },
    {
     "name": "stdout",
     "output_type": "stream",
     "text": [
      "Progres: 98.2, Saved to main_databases/F_1900_angle_191\n"
     ]
    },
    {
     "name": "stdout",
     "output_type": "stream",
     "text": [
      "Progres: 98.2, Saved to main_databases/F_1900_angle_196\n"
     ]
    },
    {
     "name": "stdout",
     "output_type": "stream",
     "text": [
      "Progres: 98.2, Saved to main_databases/F_1900_angle_201\n"
     ]
    },
    {
     "name": "stdout",
     "output_type": "stream",
     "text": [
      "Progres: 98.2, Saved to main_databases/F_1900_angle_206\n"
     ]
    },
    {
     "name": "stdout",
     "output_type": "stream",
     "text": [
      "Progres: 98.2, Saved to main_databases/F_1900_angle_211\n"
     ]
    },
    {
     "name": "stdout",
     "output_type": "stream",
     "text": [
      "Progres: 98.2, Saved to main_databases/F_1900_angle_216\n"
     ]
    },
    {
     "name": "stdout",
     "output_type": "stream",
     "text": [
      "Progres: 98.3, Saved to main_databases/F_1900_angle_221\n"
     ]
    },
    {
     "name": "stdout",
     "output_type": "stream",
     "text": [
      "Progres: 98.3, Saved to main_databases/F_1900_angle_226\n"
     ]
    },
    {
     "name": "stdout",
     "output_type": "stream",
     "text": [
      "Progres: 98.3, Saved to main_databases/F_1900_angle_231\n"
     ]
    },
    {
     "name": "stdout",
     "output_type": "stream",
     "text": [
      "Progres: 98.3, Saved to main_databases/F_1900_angle_236\n"
     ]
    },
    {
     "name": "stdout",
     "output_type": "stream",
     "text": [
      "Progres: 98.3, Saved to main_databases/F_1900_angle_241\n"
     ]
    },
    {
     "name": "stdout",
     "output_type": "stream",
     "text": [
      "Progres: 98.4, Saved to main_databases/F_1900_angle_246\n"
     ]
    },
    {
     "name": "stdout",
     "output_type": "stream",
     "text": [
      "Progres: 98.4, Saved to main_databases/F_1900_angle_251\n"
     ]
    },
    {
     "name": "stdout",
     "output_type": "stream",
     "text": [
      "Progres: 98.4, Saved to main_databases/F_1900_angle_256\n"
     ]
    },
    {
     "name": "stdout",
     "output_type": "stream",
     "text": [
      "Progres: 98.4, Saved to main_databases/F_1900_angle_261\n"
     ]
    },
    {
     "name": "stdout",
     "output_type": "stream",
     "text": [
      "Progres: 98.4, Saved to main_databases/F_1900_angle_266\n"
     ]
    },
    {
     "name": "stdout",
     "output_type": "stream",
     "text": [
      "Progres: 98.4, Saved to main_databases/F_1900_angle_271\n"
     ]
    },
    {
     "name": "stdout",
     "output_type": "stream",
     "text": [
      "Progres: 98.5, Saved to main_databases/F_1900_angle_276\n"
     ]
    },
    {
     "name": "stdout",
     "output_type": "stream",
     "text": [
      "Progres: 98.5, Saved to main_databases/F_1900_angle_281\n"
     ]
    },
    {
     "name": "stdout",
     "output_type": "stream",
     "text": [
      "Progres: 98.5, Saved to main_databases/F_1900_angle_286\n"
     ]
    },
    {
     "name": "stdout",
     "output_type": "stream",
     "text": [
      "Progres: 98.5, Saved to main_databases/F_1900_angle_291\n"
     ]
    },
    {
     "name": "stdout",
     "output_type": "stream",
     "text": [
      "Progres: 98.5, Saved to main_databases/F_1900_angle_296\n"
     ]
    },
    {
     "name": "stdout",
     "output_type": "stream",
     "text": [
      "Progres: 98.5, Saved to main_databases/F_1900_angle_301\n"
     ]
    },
    {
     "name": "stdout",
     "output_type": "stream",
     "text": [
      "Progres: 98.6, Saved to main_databases/F_1900_angle_306\n"
     ]
    },
    {
     "name": "stdout",
     "output_type": "stream",
     "text": [
      "Progres: 98.6, Saved to main_databases/F_1900_angle_311\n"
     ]
    },
    {
     "name": "stdout",
     "output_type": "stream",
     "text": [
      "Progres: 98.6, Saved to main_databases/F_1900_angle_316\n"
     ]
    },
    {
     "name": "stdout",
     "output_type": "stream",
     "text": [
      "Progres: 98.6, Saved to main_databases/F_1900_angle_321\n"
     ]
    },
    {
     "name": "stdout",
     "output_type": "stream",
     "text": [
      "Progres: 98.6, Saved to main_databases/F_1900_angle_326\n"
     ]
    },
    {
     "name": "stdout",
     "output_type": "stream",
     "text": [
      "Progres: 98.6, Saved to main_databases/F_1900_angle_331\n"
     ]
    },
    {
     "name": "stdout",
     "output_type": "stream",
     "text": [
      "Progres: 98.7, Saved to main_databases/F_1900_angle_336\n"
     ]
    },
    {
     "name": "stdout",
     "output_type": "stream",
     "text": [
      "Progres: 98.7, Saved to main_databases/F_1900_angle_341\n"
     ]
    },
    {
     "name": "stdout",
     "output_type": "stream",
     "text": [
      "Progres: 98.7, Saved to main_databases/F_1900_angle_346\n"
     ]
    },
    {
     "name": "stdout",
     "output_type": "stream",
     "text": [
      "Progres: 98.7, Saved to main_databases/F_1900_angle_351\n"
     ]
    },
    {
     "name": "stdout",
     "output_type": "stream",
     "text": [
      "Progres: 98.7, Saved to main_databases/F_1900_angle_356\n"
     ]
    },
    {
     "name": "stdout",
     "output_type": "stream",
     "text": [
      "Progres: 98.8, Saved to main_databases/F_1950_angle_1\n"
     ]
    },
    {
     "name": "stdout",
     "output_type": "stream",
     "text": [
      "Progres: 98.8, Saved to main_databases/F_1950_angle_6\n"
     ]
    },
    {
     "name": "stdout",
     "output_type": "stream",
     "text": [
      "Progres: 98.8, Saved to main_databases/F_1950_angle_11\n"
     ]
    },
    {
     "name": "stdout",
     "output_type": "stream",
     "text": [
      "Progres: 98.8, Saved to main_databases/F_1950_angle_16\n"
     ]
    },
    {
     "name": "stdout",
     "output_type": "stream",
     "text": [
      "Progres: 98.8, Saved to main_databases/F_1950_angle_21\n"
     ]
    },
    {
     "name": "stdout",
     "output_type": "stream",
     "text": [
      "Progres: 98.8, Saved to main_databases/F_1950_angle_26\n"
     ]
    },
    {
     "name": "stdout",
     "output_type": "stream",
     "text": [
      "Progres: 98.9, Saved to main_databases/F_1950_angle_31\n"
     ]
    },
    {
     "name": "stdout",
     "output_type": "stream",
     "text": [
      "Progres: 98.9, Saved to main_databases/F_1950_angle_36\n"
     ]
    },
    {
     "name": "stdout",
     "output_type": "stream",
     "text": [
      "Progres: 98.9, Saved to main_databases/F_1950_angle_41\n"
     ]
    },
    {
     "name": "stdout",
     "output_type": "stream",
     "text": [
      "Progres: 98.9, Saved to main_databases/F_1950_angle_46\n"
     ]
    },
    {
     "name": "stdout",
     "output_type": "stream",
     "text": [
      "Progres: 98.9, Saved to main_databases/F_1950_angle_51\n"
     ]
    },
    {
     "name": "stdout",
     "output_type": "stream",
     "text": [
      "Progres: 98.9, Saved to main_databases/F_1950_angle_56\n"
     ]
    },
    {
     "name": "stdout",
     "output_type": "stream",
     "text": [
      "Progres: 99.0, Saved to main_databases/F_1950_angle_61\n"
     ]
    },
    {
     "name": "stdout",
     "output_type": "stream",
     "text": [
      "Progres: 99.0, Saved to main_databases/F_1950_angle_66\n"
     ]
    },
    {
     "name": "stdout",
     "output_type": "stream",
     "text": [
      "Progres: 99.0, Saved to main_databases/F_1950_angle_71\n"
     ]
    },
    {
     "name": "stdout",
     "output_type": "stream",
     "text": [
      "Progres: 99.0, Saved to main_databases/F_1950_angle_76\n"
     ]
    },
    {
     "name": "stdout",
     "output_type": "stream",
     "text": [
      "Progres: 99.0, Saved to main_databases/F_1950_angle_81\n"
     ]
    },
    {
     "name": "stdout",
     "output_type": "stream",
     "text": [
      "Progres: 99.0, Saved to main_databases/F_1950_angle_86\n"
     ]
    },
    {
     "name": "stdout",
     "output_type": "stream",
     "text": [
      "Progres: 99.1, Saved to main_databases/F_1950_angle_91\n"
     ]
    },
    {
     "name": "stdout",
     "output_type": "stream",
     "text": [
      "Progres: 99.1, Saved to main_databases/F_1950_angle_96\n"
     ]
    },
    {
     "name": "stdout",
     "output_type": "stream",
     "text": [
      "Progres: 99.1, Saved to main_databases/F_1950_angle_101\n"
     ]
    },
    {
     "name": "stdout",
     "output_type": "stream",
     "text": [
      "Progres: 99.1, Saved to main_databases/F_1950_angle_106\n"
     ]
    },
    {
     "name": "stdout",
     "output_type": "stream",
     "text": [
      "Progres: 99.1, Saved to main_databases/F_1950_angle_111\n"
     ]
    },
    {
     "name": "stdout",
     "output_type": "stream",
     "text": [
      "Progres: 99.1, Saved to main_databases/F_1950_angle_116\n"
     ]
    },
    {
     "name": "stdout",
     "output_type": "stream",
     "text": [
      "Progres: 99.2, Saved to main_databases/F_1950_angle_121\n"
     ]
    },
    {
     "name": "stdout",
     "output_type": "stream",
     "text": [
      "Progres: 99.2, Saved to main_databases/F_1950_angle_126\n"
     ]
    },
    {
     "name": "stdout",
     "output_type": "stream",
     "text": [
      "Progres: 99.2, Saved to main_databases/F_1950_angle_131\n"
     ]
    },
    {
     "name": "stdout",
     "output_type": "stream",
     "text": [
      "Progres: 99.2, Saved to main_databases/F_1950_angle_136\n"
     ]
    },
    {
     "name": "stdout",
     "output_type": "stream",
     "text": [
      "Progres: 99.2, Saved to main_databases/F_1950_angle_141\n"
     ]
    },
    {
     "name": "stdout",
     "output_type": "stream",
     "text": [
      "Progres: 99.3, Saved to main_databases/F_1950_angle_146\n"
     ]
    },
    {
     "name": "stdout",
     "output_type": "stream",
     "text": [
      "Progres: 99.3, Saved to main_databases/F_1950_angle_151\n"
     ]
    },
    {
     "name": "stdout",
     "output_type": "stream",
     "text": [
      "Progres: 99.3, Saved to main_databases/F_1950_angle_156\n"
     ]
    },
    {
     "name": "stdout",
     "output_type": "stream",
     "text": [
      "Progres: 99.3, Saved to main_databases/F_1950_angle_161\n"
     ]
    },
    {
     "name": "stdout",
     "output_type": "stream",
     "text": [
      "Progres: 99.3, Saved to main_databases/F_1950_angle_166\n"
     ]
    },
    {
     "name": "stdout",
     "output_type": "stream",
     "text": [
      "Progres: 99.3, Saved to main_databases/F_1950_angle_171\n"
     ]
    },
    {
     "name": "stdout",
     "output_type": "stream",
     "text": [
      "Progres: 99.4, Saved to main_databases/F_1950_angle_176\n"
     ]
    },
    {
     "name": "stdout",
     "output_type": "stream",
     "text": [
      "Progres: 99.4, Saved to main_databases/F_1950_angle_181\n"
     ]
    },
    {
     "name": "stdout",
     "output_type": "stream",
     "text": [
      "Progres: 99.4, Saved to main_databases/F_1950_angle_186\n"
     ]
    },
    {
     "name": "stdout",
     "output_type": "stream",
     "text": [
      "Progres: 99.4, Saved to main_databases/F_1950_angle_191\n"
     ]
    },
    {
     "name": "stdout",
     "output_type": "stream",
     "text": [
      "Progres: 99.4, Saved to main_databases/F_1950_angle_196\n"
     ]
    },
    {
     "name": "stdout",
     "output_type": "stream",
     "text": [
      "Progres: 99.4, Saved to main_databases/F_1950_angle_201\n"
     ]
    },
    {
     "name": "stdout",
     "output_type": "stream",
     "text": [
      "Progres: 99.5, Saved to main_databases/F_1950_angle_206\n"
     ]
    },
    {
     "name": "stdout",
     "output_type": "stream",
     "text": [
      "Progres: 99.5, Saved to main_databases/F_1950_angle_211\n"
     ]
    },
    {
     "name": "stdout",
     "output_type": "stream",
     "text": [
      "Progres: 99.5, Saved to main_databases/F_1950_angle_216\n"
     ]
    },
    {
     "name": "stdout",
     "output_type": "stream",
     "text": [
      "Progres: 99.5, Saved to main_databases/F_1950_angle_221\n"
     ]
    },
    {
     "name": "stdout",
     "output_type": "stream",
     "text": [
      "Progres: 99.5, Saved to main_databases/F_1950_angle_226\n"
     ]
    },
    {
     "name": "stdout",
     "output_type": "stream",
     "text": [
      "Progres: 99.5, Saved to main_databases/F_1950_angle_231\n"
     ]
    },
    {
     "name": "stdout",
     "output_type": "stream",
     "text": [
      "Progres: 99.6, Saved to main_databases/F_1950_angle_236\n"
     ]
    },
    {
     "name": "stdout",
     "output_type": "stream",
     "text": [
      "Progres: 99.6, Saved to main_databases/F_1950_angle_241\n"
     ]
    },
    {
     "name": "stdout",
     "output_type": "stream",
     "text": [
      "Progres: 99.6, Saved to main_databases/F_1950_angle_246\n"
     ]
    },
    {
     "name": "stdout",
     "output_type": "stream",
     "text": [
      "Progres: 99.6, Saved to main_databases/F_1950_angle_251\n"
     ]
    },
    {
     "name": "stdout",
     "output_type": "stream",
     "text": [
      "Progres: 99.6, Saved to main_databases/F_1950_angle_256\n"
     ]
    },
    {
     "name": "stdout",
     "output_type": "stream",
     "text": [
      "Progres: 99.7, Saved to main_databases/F_1950_angle_261\n"
     ]
    },
    {
     "name": "stdout",
     "output_type": "stream",
     "text": [
      "Progres: 99.7, Saved to main_databases/F_1950_angle_266\n"
     ]
    },
    {
     "name": "stdout",
     "output_type": "stream",
     "text": [
      "Progres: 99.7, Saved to main_databases/F_1950_angle_271\n"
     ]
    },
    {
     "name": "stdout",
     "output_type": "stream",
     "text": [
      "Progres: 99.7, Saved to main_databases/F_1950_angle_276\n"
     ]
    },
    {
     "name": "stdout",
     "output_type": "stream",
     "text": [
      "Progres: 99.7, Saved to main_databases/F_1950_angle_281\n"
     ]
    },
    {
     "name": "stdout",
     "output_type": "stream",
     "text": [
      "Progres: 99.7, Saved to main_databases/F_1950_angle_286\n"
     ]
    },
    {
     "name": "stdout",
     "output_type": "stream",
     "text": [
      "Progres: 99.8, Saved to main_databases/F_1950_angle_291\n"
     ]
    },
    {
     "name": "stdout",
     "output_type": "stream",
     "text": [
      "Progres: 99.8, Saved to main_databases/F_1950_angle_296\n"
     ]
    },
    {
     "name": "stdout",
     "output_type": "stream",
     "text": [
      "Progres: 99.8, Saved to main_databases/F_1950_angle_301\n"
     ]
    },
    {
     "name": "stdout",
     "output_type": "stream",
     "text": [
      "Progres: 99.8, Saved to main_databases/F_1950_angle_306\n"
     ]
    },
    {
     "name": "stdout",
     "output_type": "stream",
     "text": [
      "Progres: 99.8, Saved to main_databases/F_1950_angle_311\n"
     ]
    },
    {
     "name": "stdout",
     "output_type": "stream",
     "text": [
      "Progres: 99.8, Saved to main_databases/F_1950_angle_316\n"
     ]
    },
    {
     "name": "stdout",
     "output_type": "stream",
     "text": [
      "Progres: 99.9, Saved to main_databases/F_1950_angle_321\n"
     ]
    },
    {
     "name": "stdout",
     "output_type": "stream",
     "text": [
      "Progres: 99.9, Saved to main_databases/F_1950_angle_326\n"
     ]
    },
    {
     "name": "stdout",
     "output_type": "stream",
     "text": [
      "Progres: 99.9, Saved to main_databases/F_1950_angle_331\n"
     ]
    },
    {
     "name": "stdout",
     "output_type": "stream",
     "text": [
      "Progres: 99.9, Saved to main_databases/F_1950_angle_336\n"
     ]
    },
    {
     "name": "stdout",
     "output_type": "stream",
     "text": [
      "Progres: 99.9, Saved to main_databases/F_1950_angle_341\n"
     ]
    },
    {
     "name": "stdout",
     "output_type": "stream",
     "text": [
      "Progres: 99.9, Saved to main_databases/F_1950_angle_346\n"
     ]
    },
    {
     "name": "stdout",
     "output_type": "stream",
     "text": [
      "Progres: 100.0, Saved to main_databases/F_1950_angle_351\n"
     ]
    },
    {
     "name": "stdout",
     "output_type": "stream",
     "text": [
      "Progres: 100.0, Saved to main_databases/F_1950_angle_356\n"
     ]
    }
   ],
   "source": [
    "base_record = Record(m_1=10, m_2=1, l=1, __x=0, _x=0, x=0, __fi=0, _fi=0, fi=0, g=9.81, t=0)\n",
    "dt_min = 0.01\n",
    "for position, ((force, time), angle) in enumerate(configuration):\n",
    "    if (100*position/len(configuration)) >= 94.8:\n",
    "        record = Record(base_record)\n",
    "        record.change_angle(angle)\n",
    "        record.move([(force, time),], dt_min=dt_min)\n",
    "        record.save_to_database(what=['all'], database_name=names[position])\n",
    "        print(\"Progres: %.01f, Saved to %s\" % (100*position/len(configuration), names[position]))"
   ]
  },
  {
   "cell_type": "code",
   "execution_count": null,
   "metadata": {},
   "outputs": [],
   "source": [
    "\n",
    "print(base_record)\n"
   ]
  },
  {
   "cell_type": "code",
   "execution_count": 20,
   "metadata": {},
   "outputs": [
    {
     "name": "stdout",
     "output_type": "stream",
     "text": [
      "   index  m_1  m_2  l  __x   _x    x  __fi  _fi   fi     g    t     Fi_2\n0      0   10    1  1  0.0  0.0  0.0   0.0  0.0  0.0  9.81  0.1  0.10472\n\n   index  __x   _x    x  __fi  _fi   fi    t\n0      0  0.0  0.0  0.0   0.0  0.0  0.0  0.0\n\n   index  __x  _x   x  __fi  _fi  fi   t\n0      0  NaN NaN NaN   NaN  NaN NaN NaN\n"
     ]
    }
   ],
   "source": [
    "base_record = Record()\n",
    "base_record.load_from_database(database_name=names[1])\n",
    "print(base_record)"
   ]
  },
  {
   "cell_type": "code",
   "execution_count": null,
   "metadata": {},
   "outputs": [],
   "source": []
  }
 ],
 "metadata": {
  "kernelspec": {
   "display_name": "Python 3",
   "language": "python",
   "name": "python3"
  },
  "language_info": {
   "codemirror_mode": {
    "name": "ipython",
    "version": 3
   },
   "file_extension": ".py",
   "mimetype": "text/x-python",
   "name": "python",
   "nbconvert_exporter": "python",
   "pygments_lexer": "ipython3",
   "version": "3.7.0"
  }
 },
 "nbformat": 4,
 "nbformat_minor": 2
}
