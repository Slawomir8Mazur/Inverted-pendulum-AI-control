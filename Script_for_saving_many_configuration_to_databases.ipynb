{
 "cells": [
  {
   "cell_type": "code",
   "execution_count": 1,
   "metadata": {},
   "outputs": [],
   "source": [
    "import numpy as np\n",
    "import pandas as pd\n",
    "import matplotlib.pyplot as plt\n",
    "from database_def import Record\n",
    "%matplotlib inline"
   ]
  },
  {
   "cell_type": "code",
   "execution_count": 2,
   "metadata": {},
   "outputs": [],
   "source": [
    "angle_positions = range(1, 100, 5)\n",
    "force_values = range(0, 1000, 50)\n",
    "time_values = [value/10 for value in range(1, 20, 1)]"
   ]
  },
  {
   "cell_type": "code",
   "execution_count": 3,
   "metadata": {},
   "outputs": [],
   "source": [
    "configuration = [((force, time), angle) for time in time_values\n",
    "                                        for force in force_values\n",
    "                                        for angle in angle_positions\n",
    "                ]"
   ]
  },
  {
   "cell_type": "code",
   "execution_count": 4,
   "metadata": {},
   "outputs": [
    {
     "name": "stdout",
     "output_type": "stream",
     "text": [
      "4000\n",
      "[((0, 0.0), 1), ((0, 0.0), 6), ((0, 0.0), 11), ((0, 0.0), 16), ((0, 0.0), 21), ((0, 0.0), 26)]\n"
     ]
    }
   ],
   "source": [
    "print(len(configuration))\n",
    "print(configuration[:6])"
   ]
  },
  {
   "cell_type": "code",
   "execution_count": 5,
   "metadata": {},
   "outputs": [
    {
     "name": "stdout",
     "output_type": "stream",
     "text": [
      "['parameters_0', 'parameters_1', 'parameters_2', 'parameters_3', 'parameters_4', 'parameters_5']\n"
     ]
    }
   ],
   "source": [
    "names = ['parameters_' + str(i) for i in range(len(configuration))]\n",
    "print(names[:6])"
   ]
  },
  {
   "cell_type": "code",
   "execution_count": 6,
   "metadata": {},
   "outputs": [
    {
     "name": "stdout",
     "output_type": "stream",
     "text": [
      "4000 4000\n"
     ]
    }
   ],
   "source": [
    "print(len(names), len(configuration))"
   ]
  },
  {
   "cell_type": "code",
   "execution_count": 7,
   "metadata": {},
   "outputs": [
    {
     "name": "stdout",
     "output_type": "stream",
     "text": [
      "[((0, 0.0), 1), ((0, 0.0), 6), ((0, 0.0), 11), ((0, 0.0), 16)]\n"
     ]
    }
   ],
   "source": [
    "#for tests\n",
    "configuration = configuration[:4]\n",
    "print(configuration)"
   ]
  },
  {
   "cell_type": "code",
   "execution_count": 8,
   "metadata": {},
   "outputs": [
    {
     "name": "stdout",
     "output_type": "stream",
     "text": [
      "0 0 0.0 1\n",
      "1 0 0.0 6\n",
      "2 0 0.0 11\n",
      "3 0 0.0 16\n"
     ]
    }
   ],
   "source": [
    "for position, ((force, time), angle) in enumerate(configuration):\n",
    "    print(position, force, time, angle)"
   ]
  },
  {
   "cell_type": "code",
   "execution_count": 12,
   "metadata": {},
   "outputs": [],
   "source": [
    "base_record = Record(m_1=10, m_2=1, l=1, __x=0, _x=0, x=0, __fi=0, _fi=0, fi=0, g=9.81, t=0)\n",
    "dt_min = 0.01\n",
    "for position, ((force, time), angle) in enumerate(configuration):\n",
    "    record = Record(base_record)\n",
    "    record.change_angle(angle)\n",
    "    record.move([(force, time),], dt_min=dt_min)"
   ]
  },
  {
   "cell_type": "code",
   "execution_count": 16,
   "metadata": {},
   "outputs": [
    {
     "ename": "AttributeError",
     "evalue": "'Record' object has no attribute 'to_string'",
     "output_type": "error",
     "traceback": [
      "\u001b[0;31m---------------------------------------------------------------------------\u001b[0m",
      "\u001b[0;31mAttributeError\u001b[0m                            Traceback (most recent call last)",
      "\u001b[0;32m<ipython-input-16-681d1f59019a>\u001b[0m in \u001b[0;36m<module>\u001b[0;34m()\u001b[0m\n\u001b[0;32m----> 1\u001b[0;31m \u001b[0mprint\u001b[0m\u001b[0;34m(\u001b[0m\u001b[0mrecord\u001b[0m\u001b[0;34m)\u001b[0m\u001b[0;34m\u001b[0m\u001b[0m\n\u001b[0m",
      "\u001b[0;32m~/Inverted-pendulum-AI-control/database_def.py\u001b[0m in \u001b[0;36m__str__\u001b[0;34m(self)\u001b[0m\n\u001b[1;32m     35\u001b[0m \u001b[0;34m\u001b[0m\u001b[0m\n\u001b[1;32m     36\u001b[0m     \u001b[0;32mdef\u001b[0m \u001b[0m__str__\u001b[0m\u001b[0;34m(\u001b[0m\u001b[0mself\u001b[0m\u001b[0;34m)\u001b[0m\u001b[0;34m:\u001b[0m\u001b[0;34m\u001b[0m\u001b[0m\n\u001b[0;32m---> 37\u001b[0;31m         return ''.join((self.record.to_string(),('\\n\\n'),\n\u001b[0m\u001b[1;32m     38\u001b[0m                         \u001b[0mself\u001b[0m\u001b[0;34m.\u001b[0m\u001b[0mlast_movement\u001b[0m\u001b[0;34m.\u001b[0m\u001b[0mto_string\u001b[0m\u001b[0;34m(\u001b[0m\u001b[0;34m)\u001b[0m\u001b[0;34m,\u001b[0m\u001b[0;34m(\u001b[0m\u001b[0;34m'\\n\\n'\u001b[0m\u001b[0;34m)\u001b[0m\u001b[0;34m,\u001b[0m\u001b[0;34m\u001b[0m\u001b[0m\n\u001b[1;32m     39\u001b[0m                         self.stack_of_movement.to_string()))\n",
      "\u001b[0;31mAttributeError\u001b[0m: 'Record' object has no attribute 'to_string'"
     ]
    }
   ],
   "source": []
  },
  {
   "cell_type": "code",
   "execution_count": 23,
   "metadata": {},
   "outputs": [
    {
     "name": "stdout",
     "output_type": "stream",
     "text": [
      "   m_1  m_2  l  __x  _x  x  __fi  _fi  fi     g  t\n",
      "0   10    1  1    0   0  0     0    0   0  9.81  0\n",
      "\n",
      "   __x  _x   x  __fi  _fi  fi   t\n",
      "1  NaN NaN NaN   NaN  NaN NaN NaN\n",
      "\n",
      "   __x  _x   x  __fi  _fi  fi   t\n",
      "1  NaN NaN NaN   NaN  NaN NaN NaN\n"
     ]
    }
   ],
   "source": [
    "print(base_record)"
   ]
  },
  {
   "cell_type": "code",
   "execution_count": 25,
   "metadata": {},
   "outputs": [
    {
     "name": "stdout",
     "output_type": "stream",
     "text": [
      "   m_1  m_2  l  __x  _x  x  __fi  _fi  fi     g  t\n",
      "0   10    1  1    0   0  0     0    0   0  9.81  0\n",
      "\n",
      "   __x  _x   x  __fi  _fi  fi   t\n",
      "1  NaN NaN NaN   NaN  NaN NaN NaN\n",
      "\n",
      "   __x  _x   x  __fi  _fi  fi   t\n",
      "1  NaN NaN NaN   NaN  NaN NaN NaN\n"
     ]
    }
   ],
   "source": [
    "print(record.record)"
   ]
  },
  {
   "cell_type": "code",
   "execution_count": 9,
   "metadata": {},
   "outputs": [
    {
     "name": "stdout",
     "output_type": "stream",
     "text": [
      "   m_1  m_2  l  __x  _x  x  __fi  _fi  fi     g  t\n",
      "0   10    1  1    0   0  0     0    0   0  9.81  0\n",
      "\n",
      "   __x  _x   x  __fi  _fi  fi   t\n",
      "1  NaN NaN NaN   NaN  NaN NaN NaN\n",
      "\n",
      "   __x  _x   x  __fi  _fi  fi   t\n",
      "1  NaN NaN NaN   NaN  NaN NaN NaN\n",
      "   m_1  m_2  l  __x  _x  x  __fi  _fi  fi     g  t\n",
      "0   10    1  1    0   0  0     0    0   0  9.81  0\n",
      "\n",
      "   __x  _x   x  __fi  _fi  fi   t\n",
      "1  NaN NaN NaN   NaN  NaN NaN NaN\n",
      "\n",
      "   __x  _x   x  __fi  _fi  fi   t\n",
      "1  NaN NaN NaN   NaN  NaN NaN NaN\n"
     ]
    }
   ],
   "source": [
    "base_record = Record(m_1=10, m_2=1, l=1, __x=0, _x=0, x=0, __fi=0, _fi=0, fi=0, g=9.81, t=0)\n",
    "record = Record(base_record)\n",
    "print(base_record)\n",
    "print(record)"
   ]
  },
  {
   "cell_type": "code",
   "execution_count": null,
   "metadata": {},
   "outputs": [],
   "source": []
  }
 ],
 "metadata": {
  "kernelspec": {
   "display_name": "Python 3",
   "language": "python",
   "name": "python3"
  },
  "language_info": {
   "codemirror_mode": {
    "name": "ipython",
    "version": 3
   },
   "file_extension": ".py",
   "mimetype": "text/x-python",
   "name": "python",
   "nbconvert_exporter": "python",
   "pygments_lexer": "ipython3",
   "version": "3.7.0"
  }
 },
 "nbformat": 4,
 "nbformat_minor": 2
}
