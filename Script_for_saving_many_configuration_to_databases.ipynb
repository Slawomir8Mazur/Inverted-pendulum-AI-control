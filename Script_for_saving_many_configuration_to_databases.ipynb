{
 "cells": [
  {
   "cell_type": "code",
   "execution_count": 21,
   "metadata": {},
   "outputs": [],
   "source": [
    "import numpy as np\n",
    "import pandas as pd\n",
    "import matplotlib.pyplot as plt\n",
    "from database_def import Record\n",
    "%matplotlib inline"
   ]
  },
  {
   "cell_type": "code",
   "execution_count": 22,
   "metadata": {},
   "outputs": [],
   "source": [
    "angle_positions = range(1, 100, 5)\n",
    "force_values = range(0, 1000, 50)\n",
    "time_values = [value/10 for value in range(1, 20, 1)]"
   ]
  },
  {
   "cell_type": "code",
   "execution_count": 23,
   "metadata": {},
   "outputs": [],
   "source": [
    "configuration = [((force, time), angle) for time in time_values\n",
    "                                        for force in force_values\n",
    "                                        for angle in angle_positions\n",
    "                ]"
   ]
  },
  {
   "cell_type": "code",
   "execution_count": 24,
   "metadata": {},
   "outputs": [
    {
     "name": "stdout",
     "output_type": "stream",
     "text": [
      "7600\n[((0, 0.1), 1), ((0, 0.1), 6), ((0, 0.1), 11), ((0, 0.1), 16), ((0, 0.1), 21), ((0, 0.1), 26)]\n"
     ]
    }
   ],
   "source": [
    "print(len(configuration))\n",
    "print(configuration[:6])"
   ]
  },
  {
   "cell_type": "code",
   "execution_count": 25,
   "metadata": {},
   "outputs": [
    {
     "name": "stdout",
     "output_type": "stream",
     "text": [
      "['parameters_0', 'parameters_1', 'parameters_2', 'parameters_3', 'parameters_4', 'parameters_5']\n"
     ]
    }
   ],
   "source": [
    "names = ['parameters_' + str(i) for i in range(len(configuration))]\n",
    "print(names[:6])"
   ]
  },
  {
   "cell_type": "code",
   "execution_count": 26,
   "metadata": {},
   "outputs": [
    {
     "name": "stdout",
     "output_type": "stream",
     "text": [
      "['databases/parameters_0', 'databases/parameters_1', 'databases/parameters_2']\n"
     ]
    }
   ],
   "source": [
    "path_folder = 'databases/'\n",
    "for i, name in enumerate(names):\n",
    "    names[i] = path_folder + name\n",
    "print(names[:3])"
   ]
  },
  {
   "cell_type": "code",
   "execution_count": 27,
   "metadata": {},
   "outputs": [
    {
     "name": "stdout",
     "output_type": "stream",
     "text": [
      "7600 7600\n"
     ]
    }
   ],
   "source": [
    "print(len(names), len(configuration))"
   ]
  },
  {
   "cell_type": "code",
   "execution_count": 8,
   "metadata": {},
   "outputs": [
    {
     "name": "stdout",
     "output_type": "stream",
     "text": [
      "[((0, 0.1), 1), ((0, 0.1), 6), ((0, 0.1), 11), ((0, 0.1), 16)]\n"
     ]
    }
   ],
   "source": [
    "#for tests\n",
    "configuration = configuration[:4]\n",
    "print(configuration)"
   ]
  },
  {
   "cell_type": "code",
   "execution_count": 9,
   "metadata": {},
   "outputs": [
    {
     "name": "stdout",
     "output_type": "stream",
     "text": [
      "0 0 0.1 1\n1 0 0.1 6\n2 0 0.1 11\n3 0 0.1 16\n"
     ]
    }
   ],
   "source": [
    "for position, ((force, time), angle) in enumerate(configuration):\n",
    "    print(position, force, time, angle)"
   ]
  },
  {
   "cell_type": "code",
   "execution_count": 19,
   "metadata": {},
   "outputs": [
    {
     "name": "stdout",
     "output_type": "stream",
     "text": [
      "Progres: 0.0, Saved to databases/parameters_0\n"
     ]
    },
    {
     "name": "stdout",
     "output_type": "stream",
     "text": [
      "Progres: 25.0, Saved to databases/parameters_1\n"
     ]
    },
    {
     "name": "stdout",
     "output_type": "stream",
     "text": [
      "Progres: 50.0, Saved to databases/parameters_2\n"
     ]
    },
    {
     "name": "stdout",
     "output_type": "stream",
     "text": [
      "Progres: 75.0, Saved to databases/parameters_3\n"
     ]
    }
   ],
   "source": [
    "base_record = Record(m_1=10, m_2=1, l=1, __x=0, _x=0, x=0, __fi=0, _fi=0, fi=0, g=9.81, t=0)\n",
    "dt_min = 0.01\n",
    "for position, ((force, time), angle) in enumerate(configuration):\n",
    "    record = Record(base_record)\n",
    "    record.change_angle(angle)\n",
    "    record.move([(force, time),], dt_min=dt_min)\n",
    "    record.save_to_database(what=['all'], database_name=names[position])\n",
    "    print(\"Progres: %.01f, Saved to %s\" % (100*position/len(configuration), names[position]))"
   ]
  },
  {
   "cell_type": "code",
   "execution_count": null,
   "metadata": {},
   "outputs": [],
   "source": [
    "\n",
    "print(base_record)\n"
   ]
  },
  {
   "cell_type": "code",
   "execution_count": 20,
   "metadata": {},
   "outputs": [
    {
     "name": "stdout",
     "output_type": "stream",
     "text": [
      "   index  m_1  m_2  l  __x   _x    x  __fi  _fi   fi     g    t     Fi_2\n0      0   10    1  1  0.0  0.0  0.0   0.0  0.0  0.0  9.81  0.1  0.10472\n\n   index  __x   _x    x  __fi  _fi   fi    t\n0      0  0.0  0.0  0.0   0.0  0.0  0.0  0.0\n\n   index  __x  _x   x  __fi  _fi  fi   t\n0      0  NaN NaN NaN   NaN  NaN NaN NaN\n"
     ]
    }
   ],
   "source": [
    "base_record = Record()\n",
    "base_record.load_from_database(database_name=names[1])\n",
    "print(base_record)"
   ]
  },
  {
   "cell_type": "code",
   "execution_count": null,
   "metadata": {},
   "outputs": [],
   "source": []
  }
 ],
 "metadata": {
  "kernelspec": {
   "display_name": "Python 3",
   "language": "python",
   "name": "python3"
  },
  "language_info": {
   "codemirror_mode": {
    "name": "ipython",
    "version": 3
   },
   "file_extension": ".py",
   "mimetype": "text/x-python",
   "name": "python",
   "nbconvert_exporter": "python",
   "pygments_lexer": "ipython3",
   "version": "3.7.0"
  }
 },
 "nbformat": 4,
 "nbformat_minor": 2
}
